{
 "cells": [
  {
   "attachments": {},
   "cell_type": "markdown",
   "metadata": {},
   "source": [
    "# Projet de Maths\n",
    "## Visualisation de données des tremblements de terre"
   ]
  },
  {
   "cell_type": "code",
   "execution_count": 1,
   "metadata": {},
   "outputs": [],
   "source": [
    "# Importation des librairies\n",
    "import pandas as pd\n",
    "import geopandas\n",
    "import folium\n",
    "import geodatasets\n",
    "import matplotlib.pyplot as plt"
   ]
  },
  {
   "cell_type": "code",
   "execution_count": 2,
   "metadata": {},
   "outputs": [
    {
     "name": "stdout",
     "output_type": "stream",
     "text": [
      "<class 'pandas.core.frame.DataFrame'>\n",
      "RangeIndex: 120108 entries, 0 to 120107\n",
      "Data columns (total 6 columns):\n",
      " #   Column      Non-Null Count   Dtype  \n",
      "---  ------      --------------   -----  \n",
      " 0   instant     120108 non-null  object \n",
      " 1   lat         120108 non-null  float64\n",
      " 2   lon         120108 non-null  float64\n",
      " 3   pays        119753 non-null  object \n",
      " 4   mag         120065 non-null  float64\n",
      " 5   profondeur  120107 non-null  float64\n",
      "dtypes: float64(4), object(2)\n",
      "memory usage: 5.5+ MB\n"
     ]
    }
   ],
   "source": [
    "# Lecture du fichier csv\n",
    "\n",
    "df1 = pd.read_csv(\"seismes_2014.csv\")\n",
    "\n",
    "df = df1.loc[:, (\"instant\", \"lat\", \"lon\", \"pays\", \"mag\", \"profondeur\")]\n",
    "df.info()"
   ]
  },
  {
   "cell_type": "code",
   "execution_count": 3,
   "metadata": {},
   "outputs": [
    {
     "data": {
      "text/html": [
       "<div>\n",
       "<style scoped>\n",
       "    .dataframe tbody tr th:only-of-type {\n",
       "        vertical-align: middle;\n",
       "    }\n",
       "\n",
       "    .dataframe tbody tr th {\n",
       "        vertical-align: top;\n",
       "    }\n",
       "\n",
       "    .dataframe thead th {\n",
       "        text-align: right;\n",
       "    }\n",
       "</style>\n",
       "<table border=\"1\" class=\"dataframe\">\n",
       "  <thead>\n",
       "    <tr style=\"text-align: right;\">\n",
       "      <th></th>\n",
       "      <th>instant</th>\n",
       "      <th>lat</th>\n",
       "      <th>lon</th>\n",
       "      <th>pays</th>\n",
       "      <th>mag</th>\n",
       "      <th>profondeur</th>\n",
       "      <th>geometry</th>\n",
       "    </tr>\n",
       "  </thead>\n",
       "  <tbody>\n",
       "    <tr>\n",
       "      <th>0</th>\n",
       "      <td>2014-01-31 23:53:37.000</td>\n",
       "      <td>60.252000</td>\n",
       "      <td>-152.7081</td>\n",
       "      <td>Alaska</td>\n",
       "      <td>1.10</td>\n",
       "      <td>90.20</td>\n",
       "      <td>POINT (-152.70810 60.25200)</td>\n",
       "    </tr>\n",
       "    <tr>\n",
       "      <th>1</th>\n",
       "      <td>2014-01-31 23:48:35.452</td>\n",
       "      <td>37.070300</td>\n",
       "      <td>-115.1309</td>\n",
       "      <td>Nevada</td>\n",
       "      <td>1.33</td>\n",
       "      <td>0.00</td>\n",
       "      <td>POINT (-115.13090 37.07030)</td>\n",
       "    </tr>\n",
       "    <tr>\n",
       "      <th>2</th>\n",
       "      <td>2014-01-31 23:47:24.000</td>\n",
       "      <td>64.671700</td>\n",
       "      <td>-149.2528</td>\n",
       "      <td>Alaska</td>\n",
       "      <td>1.30</td>\n",
       "      <td>7.10</td>\n",
       "      <td>POINT (-149.25280 64.67170)</td>\n",
       "    </tr>\n",
       "    <tr>\n",
       "      <th>3</th>\n",
       "      <td>2014-01-31 23:30:54.000</td>\n",
       "      <td>63.188700</td>\n",
       "      <td>-148.9575</td>\n",
       "      <td>Alaska</td>\n",
       "      <td>0.80</td>\n",
       "      <td>96.50</td>\n",
       "      <td>POINT (-148.95750 63.18870)</td>\n",
       "    </tr>\n",
       "    <tr>\n",
       "      <th>4</th>\n",
       "      <td>2014-01-31 23:30:52.210</td>\n",
       "      <td>32.616833</td>\n",
       "      <td>-115.6925</td>\n",
       "      <td>Mexico</td>\n",
       "      <td>1.34</td>\n",
       "      <td>10.59</td>\n",
       "      <td>POINT (-115.69250 32.61683)</td>\n",
       "    </tr>\n",
       "  </tbody>\n",
       "</table>\n",
       "</div>"
      ],
      "text/plain": [
       "                   instant        lat       lon    pays   mag  profondeur  \\\n",
       "0  2014-01-31 23:53:37.000  60.252000 -152.7081  Alaska  1.10       90.20   \n",
       "1  2014-01-31 23:48:35.452  37.070300 -115.1309  Nevada  1.33        0.00   \n",
       "2  2014-01-31 23:47:24.000  64.671700 -149.2528  Alaska  1.30        7.10   \n",
       "3  2014-01-31 23:30:54.000  63.188700 -148.9575  Alaska  0.80       96.50   \n",
       "4  2014-01-31 23:30:52.210  32.616833 -115.6925  Mexico  1.34       10.59   \n",
       "\n",
       "                      geometry  \n",
       "0  POINT (-152.70810 60.25200)  \n",
       "1  POINT (-115.13090 37.07030)  \n",
       "2  POINT (-149.25280 64.67170)  \n",
       "3  POINT (-148.95750 63.18870)  \n",
       "4  POINT (-115.69250 32.61683)  "
      ]
     },
     "execution_count": 3,
     "metadata": {},
     "output_type": "execute_result"
    }
   ],
   "source": [
    "geometry = geopandas.points_from_xy(df.lon, df.lat)\n",
    "geo_df = geopandas.GeoDataFrame(\n",
    "    df[[\"instant\", \"lat\", \"lon\", \"pays\", \"mag\", \"profondeur\"]], geometry=geometry\n",
    ")\n",
    "\n",
    "geo_df.head()"
   ]
  },
  {
   "cell_type": "code",
   "execution_count": 4,
   "metadata": {},
   "outputs": [],
   "source": [
    "# On utilise le fond de carte OpenStreetMap\n",
    "map = folium.Map(tiles=\"OpenStreetMap\", zoom_start=9)"
   ]
  },
  {
   "cell_type": "code",
   "execution_count": 5,
   "metadata": {},
   "outputs": [],
   "source": [
    "# Crée une liste de points des latitudes et longitudes\n",
    "\n",
    "geo_df_list = [[point.xy[1][0], point.xy[0][0]] for point in geo_df.geometry]\n",
    "\n",
    "# Itère sur la liste des coordonnées et ajoute un point à la carte\n",
    "\n",
    "i = 0\n",
    "for coordinates in geo_df_list:\n",
    "    # Assigne une couleur en fonction de la magnitude\n",
    "    if geo_df.mag[i] < 0.2:\n",
    "        type_color = \"green\"\n",
    "    elif geo_df.mag[i] < 0.5:\n",
    "        type_color = \"blue\"\n",
    "    elif geo_df.mag[i] < 1.5:\n",
    "        type_color = \"orange\"\n",
    "    elif geo_df.mag[i] < 2.5:\n",
    "        type_color = \"pink\"\n",
    "    else:\n",
    "        type_color = \"purple\"\n",
    "\n",
    "    # Place le point sur la carte\n",
    "    map.add_child(\n",
    "        folium.Marker(\n",
    "            location=coordinates,\n",
    "            popup=\"instant: \"\n",
    "            + str(geo_df.instant[i])\n",
    "            + \"<br>\"\n",
    "            + \"lat: \"\n",
    "            + str(geo_df.lat[i])\n",
    "            + \"<br>\"\n",
    "            + \"lon: \"\n",
    "            + str(geo_df.lon[i])\n",
    "            + \"<br>\"\n",
    "            + \"pays: \"\n",
    "            + str(geo_df.pays[i])\n",
    "            + \"<br>\"\n",
    "            + \"mag: \"\n",
    "            + str(geo_df.mag[i])\n",
    "            + \"<br>\"\n",
    "            + \"profondeur: \"\n",
    "            + str(geo_df.profondeur[i])\n",
    "            + \"<br>\"\n",
    "            + \"Coordinates: \"\n",
    "            + str(geo_df_list[i]),\n",
    "            icon=folium.Icon(color=\"%s\" % type_color),\n",
    "        )\n",
    "    )\n",
    "    i = i + 1"
   ]
  },
  {
   "cell_type": "code",
   "execution_count": null,
   "metadata": {},
   "outputs": [],
   "source": [
    "map"
   ]
  },
  {
   "cell_type": "code",
   "execution_count": null,
   "metadata": {},
   "outputs": [],
   "source": [
    "# Création d'une heat map avec les données fournis\n",
    "\n",
    "from folium import plugins\n",
    "\n",
    "map = folium.Map(location=[15, 30], tiles=\"Cartodb dark_matter\", zoom_start=2)\n",
    "\n",
    "heat_data = [[point.xy[1][0], point.xy[0][0]] for point in geo_df.geometry]\n",
    "\n",
    "heat_data\n",
    "plugins.HeatMap(heat_data).add_to(map)\n",
    "\n",
    "map"
   ]
  }
 ],
 "metadata": {
  "kernelspec": {
   "display_name": "Python 3 (ipykernel)",
   "language": "python",
   "name": "python3"
  },
  "language_info": {
   "codemirror_mode": {
    "name": "ipython",
    "version": 3
   },
   "file_extension": ".py",
   "mimetype": "text/x-python",
   "name": "python",
   "nbconvert_exporter": "python",
   "pygments_lexer": "ipython3",
   "version": "3.9.2"
  },
  "orig_nbformat": 4
 },
 "nbformat": 4,
 "nbformat_minor": 2
}
